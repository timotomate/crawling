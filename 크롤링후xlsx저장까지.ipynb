{
 "cells": [
  {
   "cell_type": "code",
   "execution_count": 81,
   "id": "5ec797a9",
   "metadata": {},
   "outputs": [],
   "source": [
    "from bs4 import BeautifulSoup\n",
    "from selenium import webdriver\n",
    "import time\n",
    "driver = webdriver.Chrome(\"./chromedriver\")"
   ]
  },
  {
   "cell_type": "code",
   "execution_count": 82,
   "id": "0d7a1c9e",
   "metadata": {},
   "outputs": [
    {
     "name": "stdout",
     "output_type": "stream",
     "text": [
      "남자친구에게 폭행당해 사망한 딸의 엄마입니다\n",
      "부산대 **양의 위법한 입학 취소 결정 반대 합니다\n",
      "20개월 여아를 끔찍하게 학대하고 성폭행하여 살해한 아동학대 살인자를 신상공개해주십시오\n",
      "친구가 고등학생 무리들에게 폭행을 당하여 사망했습니다.\n",
      "KTX로 수서까지 가고 싶습니다\n",
      "고등학생 일행 6명이 어린 딸과 아들이 있는 가장을 폭행으로 사망 하게 만들었습니다 (그중…\n",
      "60대 노인에게 담배셔틀'요구하고 작대기로 머리도 수차례 가격한 10대 강력 처벌…\n",
      "1급 중증장애인인 저희 아들이 인천소재 복지센터에서 악의적인 강제음식먹임 학대로 인한 기도…\n",
      "정경심교수님 2심재판부 탄핵청원\n",
      "코로나 백신 화이자2차접종후 다음날사망\n",
      "남편 직장 상사에게 성폭행(준강간) 당했어요. 너무 억울해요\n",
      "교회 대면예배금지  철회\n",
      "아동학대법을 악용하는 교사학대로부터 좋은 선생님들을 보호해주세요.\n",
      "무려 대통령이 12번이나 묵살해 “13번째” 올리는 국민청원입니다 ‘딸이 강간당하는 것을 …\n",
      "고위공직자 자녀 입시 부정 전수 조사 청원합니다.\n",
      "난민 받지 말아 주세요.\n",
      "여섬부정출혈(하혈)을 코로나19백신 부작용으로 신고할수있도록해주세요.\n",
      "**포인트 사기\n",
      "교사 대 영유아의 비율을 줄여주세요\n",
      "<만24세 초등교사, 화이자 1차 접종 후 사경을 헤매고 있습니다. 저희 오빠 좀 도…\n",
      "20개월 딸을 학대하고 생명을 빼앗은 20대 남성을 엄벌하여 주세요.\n",
      "결혼식을 콘서트장에서 하면 괜찮습니까?\n",
      "저는 지금 아빠의 장례식장에 와있습니다.\n",
      "해머를 목에 달고 살다가 결국 사라진 검둥이, 학대자 처벌 강화\n",
      "2학기 전면등교를 반대합니다.\n",
      "중학교 양궁부 선배가 후배를 활로 쏜 사건, 학교폭력 더 이상 두고 볼 수 없습니다.\n",
      "인지세법 개정이 필요합니다!!\n",
      "화이자 접종 후 예비신랑이 급성 골수성 백혈병에 걸렸습니다.\n",
      "집단 따돌림에 내 소중한 보물을 잃었습니다.\n",
      "“ 고가주택 9억초과 부분의 중개수수료 요율의 세분화엔 동의하되, 기존 요율을 지켜주세요”\n"
     ]
    }
   ],
   "source": [
    "result_list = []\n",
    "for i in range(1, 3):\n",
    "    driver.get(\"https://www1.president.go.kr/petitions/best?page=\" + str(i))\n",
    "    soup = BeautifulSoup(driver.page_source, 'html.parser')\n",
    "    for i in soup.select(\"#cont_view > div.cs_area > div > div > div.board.text > div.b_list.category > div.bl_body > ul > li\"):\n",
    "        print(i.find(\"div\", class_=\"bl_subject\").text[3:].strip())\n",
    "        result_list.append(i.find(\"div\", class_=\"bl_subject\").text[3:].strip())\n",
    "    time.sleep(2)"
   ]
  },
  {
   "cell_type": "code",
   "execution_count": 83,
   "id": "3355c170",
   "metadata": {},
   "outputs": [],
   "source": [
    "driver.close()"
   ]
  },
  {
   "cell_type": "code",
   "execution_count": 84,
   "id": "9a0dc8d5",
   "metadata": {},
   "outputs": [],
   "source": [
    "from openpyxl import Workbook"
   ]
  },
  {
   "cell_type": "code",
   "execution_count": 85,
   "id": "c0184ddb",
   "metadata": {},
   "outputs": [],
   "source": [
    "write_workbook = Workbook()"
   ]
  },
  {
   "cell_type": "code",
   "execution_count": 86,
   "id": "1c2d93e4",
   "metadata": {},
   "outputs": [],
   "source": [
    "write_cell = write_workbook.active"
   ]
  },
  {
   "cell_type": "code",
   "execution_count": 87,
   "id": "92f71a3c",
   "metadata": {},
   "outputs": [],
   "source": [
    "for i in range(1, len(result_list) + 1):\n",
    "    write_cell.cell(i, 1, result_list[i-1])"
   ]
  },
  {
   "cell_type": "code",
   "execution_count": 88,
   "id": "30be5810",
   "metadata": {},
   "outputs": [],
   "source": [
    "write_workbook.save(\"bluehouse.xlsx\")"
   ]
  },
  {
   "cell_type": "code",
   "execution_count": null,
   "id": "979b3d86",
   "metadata": {},
   "outputs": [],
   "source": []
  }
 ],
 "metadata": {
  "kernelspec": {
   "display_name": "Python 3",
   "language": "python",
   "name": "python3"
  },
  "language_info": {
   "codemirror_mode": {
    "name": "ipython",
    "version": 3
   },
   "file_extension": ".py",
   "mimetype": "text/x-python",
   "name": "python",
   "nbconvert_exporter": "python",
   "pygments_lexer": "ipython3",
   "version": "3.8.8"
  },
  "toc": {
   "base_numbering": 1,
   "nav_menu": {},
   "number_sections": true,
   "sideBar": true,
   "skip_h1_title": false,
   "title_cell": "Table of Contents",
   "title_sidebar": "Contents",
   "toc_cell": false,
   "toc_position": {},
   "toc_section_display": true,
   "toc_window_display": false
  }
 },
 "nbformat": 4,
 "nbformat_minor": 5
}
